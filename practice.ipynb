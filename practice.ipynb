{
 "cells": [
  {
   "cell_type": "markdown",
   "id": "9ef4e56b",
   "metadata": {},
   "source": [
    "<h1>Предсказание успешности проектов, собирающих средства на Kickstarter при помощи моделей МО</h1>\n",
    "<h2>Описание задачи</h2>\n",
    "\n",
    "<p>Выбранный набор данных представляет из себя статистику всех краудфандинговых кампаний, которые были запущены на платформе Kickstarter с 2009 по 2018 годы. Он включает в себя информацию о проектах, таких как название, категория, дата запуска и дедлайн, сумма, которую он собрал, сумма, которую планировалось собрать и прочие метрики. \n",
    "\n",
    "На основании этих данных можно обучить разные модели, которые смогут предсказывать успешность проекта на основе параметров его кампании на Kickstarter. В качестве меры успешности кампании будет выступать поле \"state\" со следующими значениями:</p>"
   ]
  },
  {
   "cell_type": "code",
   "execution_count": null,
   "id": "da0b206c",
   "metadata": {},
   "outputs": [
    {
     "name": "stdout",
     "output_type": "stream",
     "text": [
      "['failed' 'canceled' 'successful' 'live' 'undefined' 'suspended']\n"
     ]
    }
   ],
   "source": [
    "import pandas as pd \n",
    "df = pd.read_csv('dataset.csv')\n",
    "print(df['state'].unique())"
   ]
  },
  {
   "cell_type": "markdown",
   "id": "e665318e",
   "metadata": {},
   "source": [
    "<p>Состояния live и undefined нам особо не интересны; suspended, canceled и failed свидетельствуют о провале кампании. Значит, при обучении модели успешными стоит считать только записи со статусом successful. Таким образом, приняв state = 'successful' за 1, а все остальные значения за 0, мы можем свести задачу предсказания успешности кампании к классической задаче классификации, которую можно решить методом логистической регрессии.</p>"
   ]
  },
  {
   "cell_type": "markdown",
   "id": "0750f54d",
   "metadata": {},
   "source": [
    "<h2>Анализ, первичная чистка и обработка данных</h2>\n",
    "<p>Датасет содержит большое количество данных, не все из которых имеют значение в рамках поставленной задачи. \n",
    "Выведем некоторую базовую информацию о наборе данных в исходном состоянии</p>"
   ]
  },
  {
   "cell_type": "code",
   "execution_count": 1,
   "id": "11d86ecc",
   "metadata": {},
   "outputs": [
    {
     "name": "stdout",
     "output_type": "stream",
     "text": [
      "Data Information :\n",
      " \n",
      "<class 'pandas.core.frame.DataFrame'>\n",
      "RangeIndex: 378661 entries, 0 to 378660\n",
      "Data columns (total 15 columns):\n",
      " #   Column            Non-Null Count   Dtype  \n",
      "---  ------            --------------   -----  \n",
      " 0   ID                378661 non-null  int64  \n",
      " 1   name              378657 non-null  object \n",
      " 2   category          378661 non-null  object \n",
      " 3   main_category     378661 non-null  object \n",
      " 4   currency          378661 non-null  object \n",
      " 5   deadline          378661 non-null  object \n",
      " 6   goal              378661 non-null  float64\n",
      " 7   launched          378661 non-null  object \n",
      " 8   pledged           378661 non-null  float64\n",
      " 9   state             378661 non-null  object \n",
      " 10  backers           378661 non-null  int64  \n",
      " 11  country           378661 non-null  object \n",
      " 12  usd pledged       374864 non-null  float64\n",
      " 13  usd_pledged_real  378661 non-null  float64\n",
      " 14  usd_goal_real     378661 non-null  float64\n",
      "dtypes: float64(5), int64(2), object(8)\n",
      "memory usage: 43.3+ MB\n",
      "None\n",
      "Number of nulls for column : \n",
      "\n",
      "ID                     0\n",
      "name                   4\n",
      "category               0\n",
      "main_category          0\n",
      "currency               0\n",
      "deadline               0\n",
      "goal                   0\n",
      "launched               0\n",
      "pledged                0\n",
      "state                  0\n",
      "backers                0\n",
      "country                0\n",
      "usd pledged         3797\n",
      "usd_pledged_real       0\n",
      "usd_goal_real          0\n",
      "dtype: int64\n",
      "Data statistics : \n",
      "\n",
      "                 ID          goal       pledged        backers   usd pledged  \\\n",
      "count  3.786610e+05  3.786610e+05  3.786610e+05  378661.000000  3.748640e+05   \n",
      "mean   1.074731e+09  4.908079e+04  9.682979e+03     105.617476  7.036729e+03   \n",
      "std    6.190862e+08  1.183391e+06  9.563601e+04     907.185035  7.863975e+04   \n",
      "min    5.971000e+03  1.000000e-02  0.000000e+00       0.000000  0.000000e+00   \n",
      "25%    5.382635e+08  2.000000e+03  3.000000e+01       2.000000  1.698000e+01   \n",
      "50%    1.075276e+09  5.200000e+03  6.200000e+02      12.000000  3.947200e+02   \n",
      "75%    1.610149e+09  1.600000e+04  4.076000e+03      56.000000  3.034090e+03   \n",
      "max    2.147476e+09  1.000000e+08  2.033899e+07  219382.000000  2.033899e+07   \n",
      "\n",
      "       usd_pledged_real  usd_goal_real  \n",
      "count      3.786610e+05   3.786610e+05  \n",
      "mean       9.058924e+03   4.545440e+04  \n",
      "std        9.097334e+04   1.152950e+06  \n",
      "min        0.000000e+00   1.000000e-02  \n",
      "25%        3.100000e+01   2.000000e+03  \n",
      "50%        6.243300e+02   5.500000e+03  \n",
      "75%        4.050000e+03   1.550000e+04  \n",
      "max        2.033899e+07   1.663614e+08  \n"
     ]
    }
   ],
   "source": [
    "\n",
    "import pandas as pd \n",
    "\n",
    "df = pd.read_csv('dataset.csv')\n",
    "\n",
    "print(\"Data Information :\\n \")\n",
    "print(df.info())\n",
    "\n",
    "print(\"Number of nulls for column : \\n\")\n",
    "print(df.isnull().sum())\n",
    "\n",
    "print(\"Data statistics : \\n\")\n",
    "print(df.describe())\n"
   ]
  },
  {
   "cell_type": "markdown",
   "id": "2b03a664",
   "metadata": {},
   "source": [
    "Из вывода видно, что в таблице аж 378 тысяч строк и почти нет пустых (null) значений. Это позволяет отбросить null-значения и всё равно оставить более чем достаточное количество данных для обучения и тестирования моделей.\n",
    "Так же статистика показывает, что среднее значение (mean) поля usd_pledged_real (кол-во инвестированных денег в переводе в доллары США) заметно меньше значения usd_goal_real (цель кампании по сбору денег в долларах США). Из этого можно сделать вывод, что в среднем краудфандинговые кампании не достигают поставленных целей и стоит ожидать больше отрицательных результатов, чем положительных.\n",
    "\n",
    "Рассматривая столбцы по отдельности можно выделить заведомо не имеющие значения для нас столбцы, а также сделать предположения о важности тех или иных признаков, которые мы эмпирически проверим позже. Так, например, столбец ID очевидно не несёт полезной информации, usd_pledged отличается от usd_pledged_real лишь инструментом конвертации суммы в USD и по своему смыслу полностью дублирует его, а goal и pledged не только дублируются, но и вообще выражены в изначальной валюте сбора и, соответственно, не нормализованы относительно строк с другими показателями валюты. Столбцы currency (валюта) и country (страна) вероятно также не имеют особого значения, но они всё же несут уникальную информацию, релевантность которой стоит проверить.\n",
    "\n",
    "Смотря от обратного, можно заметить, что name, category и main_category можно использовать для категоризации, backers (кол-во поддержавших), usd_goal_real, usd_pledged_real имеют непосредственное отношение к финансовому аспекту, а launched и deadline - к сроку кампании. Исходя из этого можно предположить, что значения в этих столбцах будут иметь значение для прогнозирования успеха кампании.\n",
    "\n",
    "Тем не менее, для более удобного взаимодействия с этими данными их стоит обработать. А именно:\n",
    "-Конвертировать строковые значения статуса (state) в булевы значения успешности (success)\n",
    "-Конвертировать даты в формат datetime, чтобы с ними можно было действительно работать как с датами при помощи pandas\n",
    "-Объединить launched и deadline в одно поле, указывающее на продолжительность кампании в одном значении\n",
    "-Создать дополнительные признаки, касающиеся времени старта кампании\n",
    "\n",
    "Для подготовки к обучению моделей также стоит закодировать категориальные признаки и выделить параметры (фичи)"
   ]
  },
  {
   "cell_type": "code",
   "execution_count": null,
   "id": "5ffc1497",
   "metadata": {},
   "outputs": [],
   "source": [
    "def preprocess_data(df):\n",
    "    \"\"\"\n",
    "    Предобработка данных Kickstarter\n",
    "    \"\"\"\n",
    "    # Создаем копию данных\n",
    "    data = df.copy()\n",
    "    \n",
    "    # Создаем целевую переменную (1 - успешная, 0 - неуспешная)\n",
    "    data['success'] = (data['state'] == 'successful').astype(int)\n",
    "    \n",
    "    # Удаляем строки с отсутствующими значениями в ключевых столбцах\n",
    "    data = data.dropna(subset=['usd_goal_real', 'usd_pledged_real', 'backers'])\n",
    "    \n",
    "    # Обработка дат\n",
    "    data['launched'] = pd.to_datetime(data['launched'])\n",
    "    data['deadline'] = pd.to_datetime(data['deadline'])\n",
    "    data['campaign_duration'] = (data['deadline'] - data['launched']).dt.days\n",
    "    \n",
    "    # Создание дополнительных признаков\n",
    "    data['launch_year'] = data['launched'].dt.year\n",
    "    data['launch_month'] = data['launched'].dt.month\n",
    "    data['launch_day_of_week'] = data['launched'].dt.dayofweek\n",
    "    \n",
    "    # Категориальные переменные\n",
    "    label_encoders = {}\n",
    "    categorical_columns = ['category', 'main_category', 'currency', 'country']\n",
    "    \n",
    "    for col in categorical_columns:\n",
    "        if col in data.columns:\n",
    "            le = LabelEncoder()\n",
    "            data[col + '_encoded'] = le.fit_transform(data[col].astype(str))\n",
    "            label_encoders[col] = le\n",
    "    \n",
    "    # Выбираем признаки для модели\n",
    "    feature_columns = [\n",
    "        'usd_goal_real', 'backers', 'campaign_duration',\n",
    "        'launch_year', 'launch_month', 'launch_day_of_week'\n",
    "    ]\n",
    "    \n",
    "    # Добавляем закодированные категориальные признаки\n",
    "    for col in categorical_columns:\n",
    "        if col + '_encoded' in data.columns:\n",
    "            feature_columns.append(col + '_encoded')\n",
    "    \n",
    "    # Удаляем выбросы (используем IQR метод для числовых столбцов)\n",
    "    numeric_features = ['usd_goal_real', 'backers', 'campaign_duration']\n",
    "    for col in numeric_features:\n",
    "        if col in data.columns:\n",
    "            Q1 = data[col].quantile(0.25)\n",
    "            Q3 = data[col].quantile(0.75)\n",
    "            IQR = Q3 - Q1\n",
    "            lower_bound = Q1 - 1.5 * IQR\n",
    "            upper_bound = Q3 + 1.5 * IQR\n",
    "            data = data[(data[col] >= lower_bound) & (data[col] <= upper_bound)]\n",
    "    \n",
    "    return data, feature_columns, label_encoders"
   ]
  }
 ],
 "metadata": {
  "kernelspec": {
   "display_name": "Python 3",
   "language": "python",
   "name": "python3"
  },
  "language_info": {
   "codemirror_mode": {
    "name": "ipython",
    "version": 3
   },
   "file_extension": ".py",
   "mimetype": "text/x-python",
   "name": "python",
   "nbconvert_exporter": "python",
   "pygments_lexer": "ipython3",
   "version": "3.12.6"
  }
 },
 "nbformat": 4,
 "nbformat_minor": 5
}
