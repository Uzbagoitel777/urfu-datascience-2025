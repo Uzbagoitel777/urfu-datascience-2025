{
 "cells": [
  {
   "cell_type": "markdown",
   "id": "9ef4e56b",
   "metadata": {},
   "source": [
    "Placeholder\n"
   ]
  },
  {
   "cell_type": "code",
   "execution_count": null,
   "id": "11d86ecc",
   "metadata": {
    "vscode": {
     "languageId": "plaintext"
    }
   },
   "outputs": [],
   "source": [
    "def placeholder():\n",
    "return None"
   ]
  }
 ],
 "metadata": {
  "language_info": {
   "name": "python"
  }
 },
 "nbformat": 4,
 "nbformat_minor": 5
}
